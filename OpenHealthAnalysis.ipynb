{
 "cells": [
  {
   "cell_type": "code",
   "execution_count": 225,
   "metadata": {
    "collapsed": false
   },
   "outputs": [
    {
     "name": "stdout",
     "output_type": "stream",
     "text": [
      "<class 'pandas.core.frame.DataFrame'>\n",
      "Int64Index: 991 entries, 1 to 999\n",
      "Data columns (total 24 columns):\n",
      "_id                     991 non-null object\n",
      "address                 991 non-null object\n",
      "baseUrl                 370 non-null object\n",
      "category                985 non-null object\n",
      "city                    991 non-null object\n",
      "geo                     777 non-null object\n",
      "guid                    991 non-null object\n",
      "inserted                370 non-null object\n",
      "inspections             991 non-null object\n",
      "last_inspection_date    991 non-null object\n",
      "locality                991 non-null object\n",
      "locality_id             808 non-null object\n",
      "locality_url            808 non-null object\n",
      "name                    991 non-null object\n",
      "phone                   808 non-null object\n",
      "score                   991 non-null float64\n",
      "search_name             991 non-null object\n",
      "slug                    991 non-null object\n",
      "smoking                 425 non-null float64\n",
      "status                  808 non-null object\n",
      "type                    991 non-null object\n",
      "url                     991 non-null object\n",
      "vendor_id               991 non-null object\n",
      "vendor_location         808 non-null object\n",
      "dtypes: float64(2), object(22)\n",
      "memory usage: 193.6+ KB\n",
      "None\n"
     ]
    },
    {
     "data": {
      "text/html": [
       "<div>\n",
       "<table border=\"1\" class=\"dataframe\">\n",
       "  <thead>\n",
       "    <tr style=\"text-align: right;\">\n",
       "      <th></th>\n",
       "      <th>_id</th>\n",
       "      <th>address</th>\n",
       "      <th>baseUrl</th>\n",
       "      <th>category</th>\n",
       "      <th>city</th>\n",
       "      <th>geo</th>\n",
       "      <th>guid</th>\n",
       "      <th>inserted</th>\n",
       "      <th>inspections</th>\n",
       "      <th>last_inspection_date</th>\n",
       "      <th>...</th>\n",
       "      <th>phone</th>\n",
       "      <th>score</th>\n",
       "      <th>search_name</th>\n",
       "      <th>slug</th>\n",
       "      <th>smoking</th>\n",
       "      <th>status</th>\n",
       "      <th>type</th>\n",
       "      <th>url</th>\n",
       "      <th>vendor_id</th>\n",
       "      <th>vendor_location</th>\n",
       "    </tr>\n",
       "  </thead>\n",
       "  <tbody>\n",
       "    <tr>\n",
       "      <th>1</th>\n",
       "      <td>{'$oid': '540c5db105c6a266f5e082db'}</td>\n",
       "      <td>19350 Christanna Highway</td>\n",
       "      <td>NaN</td>\n",
       "      <td>Education</td>\n",
       "      <td>Lawrenceville</td>\n",
       "      <td>{'coordinates': [-77.87301, 36.77721], 'type':...</td>\n",
       "      <td>88256CC2007B813A85256C60005D92AF</td>\n",
       "      <td>NaN</td>\n",
       "      <td>[{'followup_required': 'No', 'date': {'$date':...</td>\n",
       "      <td>{'$date': '2016-11-08T19:00:00.000-0500'}</td>\n",
       "      <td>...</td>\n",
       "      <td></td>\n",
       "      <td>100.0</td>\n",
       "      <td>Totaro Elementary School Cafeteria</td>\n",
       "      <td>Totaro-Elementary-School-Cafeteria-19350-Chris...</td>\n",
       "      <td>1.0</td>\n",
       "      <td>Permitted</td>\n",
       "      <td>Public Elementary School Food Service</td>\n",
       "      <td>http://healthspace.com/Clients/VDH/Southside/w...</td>\n",
       "      <td>RWIN-5FCMYT</td>\n",
       "      <td>19350 Christanna Highway, Lawrenceville, VA 23868</td>\n",
       "    </tr>\n",
       "    <tr>\n",
       "      <th>2</th>\n",
       "      <td>{'$oid': '540c5db205c6a266f5e082dc'}</td>\n",
       "      <td>3180 L.P. Bailey Hwy.</td>\n",
       "      <td>/Clients/VDH/Southside/Southside_Website.nsf/</td>\n",
       "      <td>Medical</td>\n",
       "      <td>Halifax</td>\n",
       "      <td>{'type': 'Point', 'coordinates': [-78.94802, 3...</td>\n",
       "      <td>673F283915C99A51852572A4005334BF</td>\n",
       "      <td>{'$date': '2014-09-07T05:28:07.858-0400'}</td>\n",
       "      <td>[{'date': {'$date': '2014-08-28T20:00:00.000-0...</td>\n",
       "      <td>{'$date': '2014-08-28T20:00:00.000-0400'}</td>\n",
       "      <td>...</td>\n",
       "      <td>NaN</td>\n",
       "      <td>99.8</td>\n",
       "      <td>Sekpehs Adult Home</td>\n",
       "      <td>sekpehs-adult-home-3180-lp-bailey-hwy</td>\n",
       "      <td>NaN</td>\n",
       "      <td>NaN</td>\n",
       "      <td>Adult Care Home Food Service</td>\n",
       "      <td>/Clients/VDH/Southside/Southside_Website.nsf/F...</td>\n",
       "      <td>673F283915C99A51852572A4005334BF</td>\n",
       "      <td>NaN</td>\n",
       "    </tr>\n",
       "    <tr>\n",
       "      <th>3</th>\n",
       "      <td>{'$oid': '540c5db305c6a266f5e082dd'}</td>\n",
       "      <td>6240 Stage Coach Road</td>\n",
       "      <td>NaN</td>\n",
       "      <td>Mobile Food</td>\n",
       "      <td>Nathalie</td>\n",
       "      <td>{'coordinates': [-79.04197, 36.99772], 'type':...</td>\n",
       "      <td>E2A30E355F327C5A88257B2C0049E158</td>\n",
       "      <td>NaN</td>\n",
       "      <td>[{'followup_required': 'No', 'type': 'Routine'...</td>\n",
       "      <td>{'$date': '2016-08-25T20:00:00.000-0400'}</td>\n",
       "      <td>...</td>\n",
       "      <td>434-5748</td>\n",
       "      <td>100.0</td>\n",
       "      <td>A E Mobile Unit II</td>\n",
       "      <td>A-E-Mobile-Unit-II-6240-Stage-Coach-Road-Natha...</td>\n",
       "      <td>NaN</td>\n",
       "      <td>Permitted</td>\n",
       "      <td>Mobile Food Unit</td>\n",
       "      <td>http://healthspace.com/Clients/VDH/Southside/w...</td>\n",
       "      <td>KWAR-95QHSE</td>\n",
       "      <td>6240 Stage Coach Road, Nathalie, Virginia 24577</td>\n",
       "    </tr>\n",
       "    <tr>\n",
       "      <th>4</th>\n",
       "      <td>{'$oid': '540c5db405c6a266f5e082de'}</td>\n",
       "      <td>2050 Philpott Road</td>\n",
       "      <td>NaN</td>\n",
       "      <td>Hospitality</td>\n",
       "      <td>South Boston</td>\n",
       "      <td>{'coordinates': [-78.9196, 36.67743], 'type': ...</td>\n",
       "      <td>71BF5512B2231CB3882579EB0068E767</td>\n",
       "      <td>NaN</td>\n",
       "      <td>[{'risk_rating': 'Risk Category 2', 'followup_...</td>\n",
       "      <td>{'$date': '2016-06-21T20:00:00.000-0400'}</td>\n",
       "      <td>...</td>\n",
       "      <td></td>\n",
       "      <td>100.0</td>\n",
       "      <td>Americas Best Value Inn Suites Continental Bre...</td>\n",
       "      <td>Americas-Best-Value-Inn-Suites-Continental-Bre...</td>\n",
       "      <td>1.0</td>\n",
       "      <td>Permitted</td>\n",
       "      <td>Hotel Continental Breakfast</td>\n",
       "      <td>http://healthspace.com/Clients/VDH/Southside/w...</td>\n",
       "      <td>KWAR-8TPQG7</td>\n",
       "      <td>2050 Philpott Road, South Boston, VA 24592</td>\n",
       "    </tr>\n",
       "    <tr>\n",
       "      <th>5</th>\n",
       "      <td>{'$oid': '540c5db505c6a266f5e082df'}</td>\n",
       "      <td>3607 Old Halifax Road</td>\n",
       "      <td>NaN</td>\n",
       "      <td>Restaurant</td>\n",
       "      <td>South Boston</td>\n",
       "      <td>{'coordinates': [-78.91515, 36.735], 'type': '...</td>\n",
       "      <td>71C98A21475FFC9285256E4D005C6BEF</td>\n",
       "      <td>NaN</td>\n",
       "      <td>[{'followup_required': 'No', 'date': {'$date':...</td>\n",
       "      <td>{'$date': '2017-01-18T19:00:00.000-0500'}</td>\n",
       "      <td>...</td>\n",
       "      <td>434 572-8356</td>\n",
       "      <td>97.3</td>\n",
       "      <td>APPLEBEEs 83041</td>\n",
       "      <td>APPLEBEEs-83041-3607-Old-Halifax-Road-South-Bo...</td>\n",
       "      <td>0.0</td>\n",
       "      <td>Permitted</td>\n",
       "      <td>Full Service Restaurant</td>\n",
       "      <td>http://healthspace.com/Clients/VDH/Southside/w...</td>\n",
       "      <td>WSIN-5WRMQX</td>\n",
       "      <td>3607 Old Halifax Road, South Boston, VA 24592</td>\n",
       "    </tr>\n",
       "  </tbody>\n",
       "</table>\n",
       "<p>5 rows × 24 columns</p>\n",
       "</div>"
      ],
      "text/plain": [
       "                                    _id                   address  \\\n",
       "1  {'$oid': '540c5db105c6a266f5e082db'}  19350 Christanna Highway   \n",
       "2  {'$oid': '540c5db205c6a266f5e082dc'}     3180 L.P. Bailey Hwy.   \n",
       "3  {'$oid': '540c5db305c6a266f5e082dd'}     6240 Stage Coach Road   \n",
       "4  {'$oid': '540c5db405c6a266f5e082de'}        2050 Philpott Road   \n",
       "5  {'$oid': '540c5db505c6a266f5e082df'}     3607 Old Halifax Road   \n",
       "\n",
       "                                         baseUrl     category           city  \\\n",
       "1                                            NaN    Education  Lawrenceville   \n",
       "2  /Clients/VDH/Southside/Southside_Website.nsf/      Medical        Halifax   \n",
       "3                                            NaN  Mobile Food       Nathalie   \n",
       "4                                            NaN  Hospitality   South Boston   \n",
       "5                                            NaN   Restaurant   South Boston   \n",
       "\n",
       "                                                 geo  \\\n",
       "1  {'coordinates': [-77.87301, 36.77721], 'type':...   \n",
       "2  {'type': 'Point', 'coordinates': [-78.94802, 3...   \n",
       "3  {'coordinates': [-79.04197, 36.99772], 'type':...   \n",
       "4  {'coordinates': [-78.9196, 36.67743], 'type': ...   \n",
       "5  {'coordinates': [-78.91515, 36.735], 'type': '...   \n",
       "\n",
       "                               guid  \\\n",
       "1  88256CC2007B813A85256C60005D92AF   \n",
       "2  673F283915C99A51852572A4005334BF   \n",
       "3  E2A30E355F327C5A88257B2C0049E158   \n",
       "4  71BF5512B2231CB3882579EB0068E767   \n",
       "5  71C98A21475FFC9285256E4D005C6BEF   \n",
       "\n",
       "                                    inserted  \\\n",
       "1                                        NaN   \n",
       "2  {'$date': '2014-09-07T05:28:07.858-0400'}   \n",
       "3                                        NaN   \n",
       "4                                        NaN   \n",
       "5                                        NaN   \n",
       "\n",
       "                                         inspections  \\\n",
       "1  [{'followup_required': 'No', 'date': {'$date':...   \n",
       "2  [{'date': {'$date': '2014-08-28T20:00:00.000-0...   \n",
       "3  [{'followup_required': 'No', 'type': 'Routine'...   \n",
       "4  [{'risk_rating': 'Risk Category 2', 'followup_...   \n",
       "5  [{'followup_required': 'No', 'date': {'$date':...   \n",
       "\n",
       "                        last_inspection_date  \\\n",
       "1  {'$date': '2016-11-08T19:00:00.000-0500'}   \n",
       "2  {'$date': '2014-08-28T20:00:00.000-0400'}   \n",
       "3  {'$date': '2016-08-25T20:00:00.000-0400'}   \n",
       "4  {'$date': '2016-06-21T20:00:00.000-0400'}   \n",
       "5  {'$date': '2017-01-18T19:00:00.000-0500'}   \n",
       "\n",
       "                         ...                                 phone  score  \\\n",
       "1                        ...                                        100.0   \n",
       "2                        ...                                   NaN   99.8   \n",
       "3                        ...                              434-5748  100.0   \n",
       "4                        ...                                        100.0   \n",
       "5                        ...                          434 572-8356   97.3   \n",
       "\n",
       "                                         search_name  \\\n",
       "1                 Totaro Elementary School Cafeteria   \n",
       "2                                 Sekpehs Adult Home   \n",
       "3                                 A E Mobile Unit II   \n",
       "4  Americas Best Value Inn Suites Continental Bre...   \n",
       "5                                    APPLEBEEs 83041   \n",
       "\n",
       "                                                slug smoking     status  \\\n",
       "1  Totaro-Elementary-School-Cafeteria-19350-Chris...     1.0  Permitted   \n",
       "2              sekpehs-adult-home-3180-lp-bailey-hwy     NaN        NaN   \n",
       "3  A-E-Mobile-Unit-II-6240-Stage-Coach-Road-Natha...     NaN  Permitted   \n",
       "4  Americas-Best-Value-Inn-Suites-Continental-Bre...     1.0  Permitted   \n",
       "5  APPLEBEEs-83041-3607-Old-Halifax-Road-South-Bo...     0.0  Permitted   \n",
       "\n",
       "                                    type  \\\n",
       "1  Public Elementary School Food Service   \n",
       "2           Adult Care Home Food Service   \n",
       "3                       Mobile Food Unit   \n",
       "4            Hotel Continental Breakfast   \n",
       "5                Full Service Restaurant   \n",
       "\n",
       "                                                 url  \\\n",
       "1  http://healthspace.com/Clients/VDH/Southside/w...   \n",
       "2  /Clients/VDH/Southside/Southside_Website.nsf/F...   \n",
       "3  http://healthspace.com/Clients/VDH/Southside/w...   \n",
       "4  http://healthspace.com/Clients/VDH/Southside/w...   \n",
       "5  http://healthspace.com/Clients/VDH/Southside/w...   \n",
       "\n",
       "                          vendor_id  \\\n",
       "1                       RWIN-5FCMYT   \n",
       "2  673F283915C99A51852572A4005334BF   \n",
       "3                       KWAR-95QHSE   \n",
       "4                       KWAR-8TPQG7   \n",
       "5                       WSIN-5WRMQX   \n",
       "\n",
       "                                     vendor_location  \n",
       "1  19350 Christanna Highway, Lawrenceville, VA 23868  \n",
       "2                                                NaN  \n",
       "3    6240 Stage Coach Road, Nathalie, Virginia 24577  \n",
       "4         2050 Philpott Road, South Boston, VA 24592  \n",
       "5      3607 Old Halifax Road, South Boston, VA 24592  \n",
       "\n",
       "[5 rows x 24 columns]"
      ]
     },
     "execution_count": 225,
     "metadata": {},
     "output_type": "execute_result"
    }
   ],
   "source": [
    "import pandas as pd\n",
    "import numpy as np\n",
    "import seaborn as sns\n",
    "from pprint import pprint\n",
    "%matplotlib inline\n",
    "\n",
    "df = pd.read_json(\"va_health_inspections_1000.json\", lines=True)\n",
    "df = df[~np.isnan(df['score'])]  #remove any records that have no 'score'\n",
    "print(df.info())\n",
    "df.head()"
   ]
  },
  {
   "cell_type": "code",
   "execution_count": 218,
   "metadata": {
    "collapsed": false
   },
   "outputs": [
    {
     "name": "stdout",
     "output_type": "stream",
     "text": [
      "Categories: 9\n",
      "array(['Education', 'Medical', 'Mobile Food', 'Hospitality', 'Restaurant',\n",
      "       'Government', 'Grocery', nan, 'Other'], dtype=object)\n",
      "\n",
      "Types: 29\n",
      "array(['Public Elementary School Food Service',\n",
      "       'Adult Care Home Food Service', 'Mobile Food Unit',\n",
      "       'Hotel Continental Breakfast', 'Full Service Restaurant',\n",
      "       'Nursing Home Food Service', 'Jail Food Service',\n",
      "       'Fast Food Restaurant', 'Summer Camp Food Service',\n",
      "       'Private Middle or High School Food Service',\n",
      "       'Bed & Breakfast Food Service', 'Full Service Restaurant/Caterer',\n",
      "       'Carry Out Food Service Only', 'Child Care Food Service',\n",
      "       'Seasonal Fast Food Restaurant',\n",
      "       'Public Middle or High School Food Service',\n",
      "       'Hospital Food Service', 'Fast Food Restaurant/Caterer', 'Caterer',\n",
      "       'Unknown', 'Adult Day Care Food Service', 'Other Food Service',\n",
      "       'Private College Food Service', 'Group Home Food Service',\n",
      "       'Seasonal Full Service Restaurant',\n",
      "       'Convenience Store Food Service',\n",
      "       'Private Elementary School Food Service',\n",
      "       'Grocery Store Food Service', 'Commissary'], dtype=object)\n"
     ]
    }
   ],
   "source": [
    "categories = df['category'].unique()\n",
    "types = df['type'].unique()\n",
    "print('Categories: {}'.format(categories.size)); pprint(categories)\n",
    "print('\\nTypes: {}'.format(types.size)); pprint(types)"
   ]
  },
  {
   "cell_type": "code",
   "execution_count": 247,
   "metadata": {
    "collapsed": false
   },
   "outputs": [
    {
     "name": "stderr",
     "output_type": "stream",
     "text": [
      "/Users/bcbarsness/anaconda3/lib/python3.6/site-packages/statsmodels/nonparametric/kdetools.py:20: VisibleDeprecationWarning: using a non-integer number instead of an integer will result in an error in the future\n",
      "  y = X[:m/2+1] + np.r_[0,X[m/2+1:],0]*1j\n"
     ]
    },
    {
     "data": {
      "text/plain": [
       "<matplotlib.axes._subplots.AxesSubplot at 0x110428208>"
      ]
     },
     "execution_count": 247,
     "metadata": {},
     "output_type": "execute_result"
    },
    {
     "data": {
      "image/png": "[encoded data removed]",
      "text/plain": [
       "<matplotlib.figure.Figure at 0x11be62908>"
      ]
     },
     "metadata": {},
     "output_type": "display_data"
    }
   ],
   "source": [
    "scores = df['score']\n",
    "sns.set(rc={\"figure.figsize\": (15, 4)})\n",
    "sns.distplot(scores, bins=100)"
   ]
  },
  {
   "cell_type": "code",
   "execution_count": 252,
   "metadata": {
    "collapsed": false
   },
   "outputs": [
    {
     "data": {
      "text/plain": [
       "<matplotlib.axes._subplots.AxesSubplot at 0x11f68a710>"
      ]
     },
     "execution_count": 252,
     "metadata": {},
     "output_type": "execute_result"
    },
    {
     "data": {
      "image/png": "[encoded data removed]",
      "text/plain": [
       "<matplotlib.figure.Figure at 0x11f81ba90>"
      ]
     },
     "metadata": {},
     "output_type": "display_data"
    }
   ],
   "source": [
    "\n",
    "sns.boxplot(x=\"category\", y=\"score\", data=df, palette='rainbow')"
   ]
  },
  {
   "cell_type": "code",
   "execution_count": 242,
   "metadata": {
    "collapsed": false
   },
   "outputs": [
    {
     "data": {
      "text/plain": [
       "<matplotlib.axes._subplots.AxesSubplot at 0x128d188d0>"
      ]
     },
     "execution_count": 242,
     "metadata": {},
     "output_type": "execute_result"
    },
    {
     "data": {
      "image/png": "[encoded data removed]",
      "text/plain": [
       "<matplotlib.figure.Figure at 0x125e9e3c8>"
      ]
     },
     "metadata": {},
     "output_type": "display_data"
    }
   ],
   "source": [
    "sns.countplot(x=\"category\",  data=df)\n"
   ]
  },
  {
   "cell_type": "code",
   "execution_count": null,
   "metadata": {
    "collapsed": false
   },
   "outputs": [],
   "source": []
  },
  {
   "cell_type": "code",
   "execution_count": 120,
   "metadata": {
    "collapsed": false
   },
   "outputs": [
    {
     "data": {
      "text/html": [
       "<div>\n",
       "<table border=\"1\" class=\"dataframe\">\n",
       "  <thead>\n",
       "    <tr style=\"text-align: right;\">\n",
       "      <th></th>\n",
       "      <th>category</th>\n",
       "      <th>count</th>\n",
       "      <th>mean</th>\n",
       "      <th>std</th>\n",
       "      <th>min</th>\n",
       "      <th>25%</th>\n",
       "      <th>50%</th>\n",
       "      <th>75%</th>\n",
       "      <th>max</th>\n",
       "    </tr>\n",
       "  </thead>\n",
       "  <tbody>\n",
       "    <tr>\n",
       "      <th>0</th>\n",
       "      <td>Restaurant</td>\n",
       "      <td>595.0</td>\n",
       "      <td>96.251092</td>\n",
       "      <td>4.451918</td>\n",
       "      <td>71.40</td>\n",
       "      <td>94.575</td>\n",
       "      <td>97.60</td>\n",
       "      <td>99.55</td>\n",
       "      <td>100.0</td>\n",
       "    </tr>\n",
       "    <tr>\n",
       "      <th>1</th>\n",
       "      <td>Education</td>\n",
       "      <td>133.0</td>\n",
       "      <td>98.942481</td>\n",
       "      <td>1.586048</td>\n",
       "      <td>92.05</td>\n",
       "      <td>98.600</td>\n",
       "      <td>99.55</td>\n",
       "      <td>100.00</td>\n",
       "      <td>100.0</td>\n",
       "    </tr>\n",
       "    <tr>\n",
       "      <th>2</th>\n",
       "      <td>Mobile Food</td>\n",
       "      <td>65.0</td>\n",
       "      <td>99.177692</td>\n",
       "      <td>2.076619</td>\n",
       "      <td>85.40</td>\n",
       "      <td>99.100</td>\n",
       "      <td>100.00</td>\n",
       "      <td>100.00</td>\n",
       "      <td>100.0</td>\n",
       "    </tr>\n",
       "    <tr>\n",
       "      <th>3</th>\n",
       "      <td>Hospitality</td>\n",
       "      <td>61.0</td>\n",
       "      <td>98.772131</td>\n",
       "      <td>2.833542</td>\n",
       "      <td>85.90</td>\n",
       "      <td>98.950</td>\n",
       "      <td>100.00</td>\n",
       "      <td>100.00</td>\n",
       "      <td>100.0</td>\n",
       "    </tr>\n",
       "    <tr>\n",
       "      <th>4</th>\n",
       "      <td>Medical</td>\n",
       "      <td>55.0</td>\n",
       "      <td>98.096364</td>\n",
       "      <td>2.323090</td>\n",
       "      <td>89.00</td>\n",
       "      <td>97.600</td>\n",
       "      <td>98.80</td>\n",
       "      <td>99.70</td>\n",
       "      <td>100.0</td>\n",
       "    </tr>\n",
       "    <tr>\n",
       "      <th>5</th>\n",
       "      <td>Grocery</td>\n",
       "      <td>50.0</td>\n",
       "      <td>98.038000</td>\n",
       "      <td>2.308913</td>\n",
       "      <td>90.95</td>\n",
       "      <td>97.325</td>\n",
       "      <td>98.75</td>\n",
       "      <td>99.85</td>\n",
       "      <td>100.0</td>\n",
       "    </tr>\n",
       "    <tr>\n",
       "      <th>6</th>\n",
       "      <td>Other</td>\n",
       "      <td>19.0</td>\n",
       "      <td>98.986842</td>\n",
       "      <td>1.455053</td>\n",
       "      <td>95.65</td>\n",
       "      <td>98.800</td>\n",
       "      <td>99.85</td>\n",
       "      <td>100.00</td>\n",
       "      <td>100.0</td>\n",
       "    </tr>\n",
       "    <tr>\n",
       "      <th>7</th>\n",
       "      <td>Government</td>\n",
       "      <td>7.0</td>\n",
       "      <td>97.607143</td>\n",
       "      <td>2.604872</td>\n",
       "      <td>92.55</td>\n",
       "      <td>96.800</td>\n",
       "      <td>98.00</td>\n",
       "      <td>99.55</td>\n",
       "      <td>100.0</td>\n",
       "    </tr>\n",
       "  </tbody>\n",
       "</table>\n",
       "</div>"
      ],
      "text/plain": [
       "      category  count       mean       std    min     25%     50%     75%  \\\n",
       "0   Restaurant  595.0  96.251092  4.451918  71.40  94.575   97.60   99.55   \n",
       "1    Education  133.0  98.942481  1.586048  92.05  98.600   99.55  100.00   \n",
       "2  Mobile Food   65.0  99.177692  2.076619  85.40  99.100  100.00  100.00   \n",
       "3  Hospitality   61.0  98.772131  2.833542  85.90  98.950  100.00  100.00   \n",
       "4      Medical   55.0  98.096364  2.323090  89.00  97.600   98.80   99.70   \n",
       "5      Grocery   50.0  98.038000  2.308913  90.95  97.325   98.75   99.85   \n",
       "6        Other   19.0  98.986842  1.455053  95.65  98.800   99.85  100.00   \n",
       "7   Government    7.0  97.607143  2.604872  92.55  96.800   98.00   99.55   \n",
       "\n",
       "     max  \n",
       "0  100.0  \n",
       "1  100.0  \n",
       "2  100.0  \n",
       "3  100.0  \n",
       "4  100.0  \n",
       "5  100.0  \n",
       "6  100.0  \n",
       "7  100.0  "
      ]
     },
     "execution_count": 120,
     "metadata": {},
     "output_type": "execute_result"
    }
   ],
   "source": [
    "scoreByCategory = df.drop('smoking', axis=1)\n",
    "scoreByCategory = scoreByCategory.groupby('category').describe().unstack()\n",
    "scoreByCategory = scoreByCategory['score'].sort_values('count', ascending=False).reset_index()\n",
    "scoreByCategory\n"
   ]
  },
  {
   "cell_type": "code",
   "execution_count": 237,
   "metadata": {
    "collapsed": false
   },
   "outputs": [
    {
     "data": {
      "text/plain": [
       "<seaborn.axisgrid.FacetGrid at 0x1200bf5c0>"
      ]
     },
     "execution_count": 237,
     "metadata": {},
     "output_type": "execute_result"
    },
    {
     "data": {
      "image/png": "[encoded data removed]",
      "text/plain": [
       "<matplotlib.figure.Figure at 0x1239b10f0>"
      ]
     },
     "metadata": {},
     "output_type": "display_data"
    }
   ],
   "source": [
    "# Needed more features than countplot() supports\n",
    "scoresByCategory = df.drop('smoking', axis=1)\n",
    "scoresByCategory = scoresByCategory.groupby('category').describe().unstack()\n",
    "scoresByCategory = scoresByCategory['score'].sort_values('count', ascending=False).reset_index()\n",
    "#scoreByCategory\n",
    "\n",
    "s = sns.factorplot(x='category',y='count',data=scoresByCategory,kind='bar',  size = 8, palette='muted')\n",
    "s.set_xticklabels(rotation=30)"
   ]
  },
  {
   "cell_type": "code",
   "execution_count": 235,
   "metadata": {
    "collapsed": false
   },
   "outputs": [
    {
     "data": {
      "text/plain": [
       "<seaborn.axisgrid.FacetGrid at 0x120767898>"
      ]
     },
     "execution_count": 235,
     "metadata": {},
     "output_type": "execute_result"
    },
    {
     "data": {
      "image/png": "[encoded data removed]",
      "text/plain": [
       "<matplotlib.figure.Figure at 0x1202f52b0>"
      ]
     },
     "metadata": {},
     "output_type": "display_data"
    }
   ],
   "source": [
    "# Needed more features than countplot() supports\n",
    "scoresByCategory = df.drop('smoking', axis=1)\n",
    "scoresByCategory = scoresByCategory.groupby('type').describe().unstack()\n",
    "scoresByCategory = scoresByCategory['score'].sort_values('count', ascending=False).reset_index()\n",
    "#scoreByCategory\n",
    "\n",
    "s = sns.factorplot(x='count',y='type',data=scoresByCategory,kind='bar',  size = 8, palette='muted')\n"
   ]
  },
  {
   "cell_type": "code",
   "execution_count": null,
   "metadata": {
    "collapsed": true
   },
   "outputs": [],
   "source": []
  }
 ],
 "metadata": {
  "kernelspec": {
   "display_name": "Python 3",
   "language": "python",
   "name": "python3"
  },
  "language_info": {
   "codemirror_mode": {
    "name": "ipython",
    "version": 3
   },
   "file_extension": ".py",
   "mimetype": "text/x-python",
   "name": "python",
   "nbconvert_exporter": "python",
   "pygments_lexer": "ipython3",
   "version": "3.6.0"
  }
 },
 "nbformat": 4,
 "nbformat_minor": 2
}
