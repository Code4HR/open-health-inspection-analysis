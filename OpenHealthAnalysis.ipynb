{
 "cells": [
  {
   "cell_type": "code",
   "execution_count": 35,
   "metadata": {
    "collapsed": false
   },
   "outputs": [
    {
     "data": {
      "text/html": [
       "<div>\n",
       "<table border=\"1\" class=\"dataframe\">\n",
       "  <thead>\n",
       "    <tr style=\"text-align: right;\">\n",
       "      <th></th>\n",
       "      <th>_id</th>\n",
       "      <th>address</th>\n",
       "      <th>baseUrl</th>\n",
       "      <th>category</th>\n",
       "      <th>city</th>\n",
       "      <th>geo</th>\n",
       "      <th>guid</th>\n",
       "      <th>inserted</th>\n",
       "      <th>inspections</th>\n",
       "      <th>last_inspection_date</th>\n",
       "      <th>...</th>\n",
       "      <th>phone</th>\n",
       "      <th>score</th>\n",
       "      <th>search_name</th>\n",
       "      <th>slug</th>\n",
       "      <th>smoking</th>\n",
       "      <th>status</th>\n",
       "      <th>type</th>\n",
       "      <th>url</th>\n",
       "      <th>vendor_id</th>\n",
       "      <th>vendor_location</th>\n",
       "    </tr>\n",
       "  </thead>\n",
       "  <tbody>\n",
       "    <tr>\n",
       "      <th>0</th>\n",
       "      <td>{'$oid': '540c5db005c6a266f5e082da'}</td>\n",
       "      <td>112 Pine Hill Ct</td>\n",
       "      <td>NaN</td>\n",
       "      <td>Mobile Food</td>\n",
       "      <td>Brodnax</td>\n",
       "      <td>{'type': 'Point', 'coordinates': [-77.9095, 36...</td>\n",
       "      <td>5D6DF6E6D3D7ED3385257B8300528EA8</td>\n",
       "      <td>NaN</td>\n",
       "      <td>[]</td>\n",
       "      <td>None</td>\n",
       "      <td>...</td>\n",
       "      <td>NaN</td>\n",
       "      <td>NaN</td>\n",
       "      <td>TJs Soul Food Kitchen</td>\n",
       "      <td>tjs-soul-food-kitchen-112-pine-hill-ct</td>\n",
       "      <td>1.0</td>\n",
       "      <td>NaN</td>\n",
       "      <td>Mobile Food Unit</td>\n",
       "      <td>/Clients/VDH/Southside/Southside_Website.nsf/F...</td>\n",
       "      <td>5D6DF6E6D3D7ED3385257B8300528EA8</td>\n",
       "      <td>NaN</td>\n",
       "    </tr>\n",
       "    <tr>\n",
       "      <th>1</th>\n",
       "      <td>{'$oid': '540c5db105c6a266f5e082db'}</td>\n",
       "      <td>19350 Christanna Highway</td>\n",
       "      <td>NaN</td>\n",
       "      <td>Education</td>\n",
       "      <td>Lawrenceville</td>\n",
       "      <td>{'coordinates': [-77.87301, 36.77721], 'type':...</td>\n",
       "      <td>88256CC2007B813A85256C60005D92AF</td>\n",
       "      <td>NaN</td>\n",
       "      <td>[{'followup_required': 'No', 'date': {'$date':...</td>\n",
       "      <td>{'$date': '2016-11-08T19:00:00.000-0500'}</td>\n",
       "      <td>...</td>\n",
       "      <td></td>\n",
       "      <td>100.0</td>\n",
       "      <td>Totaro Elementary School Cafeteria</td>\n",
       "      <td>Totaro-Elementary-School-Cafeteria-19350-Chris...</td>\n",
       "      <td>1.0</td>\n",
       "      <td>Permitted</td>\n",
       "      <td>Public Elementary School Food Service</td>\n",
       "      <td>http://healthspace.com/Clients/VDH/Southside/w...</td>\n",
       "      <td>RWIN-5FCMYT</td>\n",
       "      <td>19350 Christanna Highway, Lawrenceville, VA 23868</td>\n",
       "    </tr>\n",
       "    <tr>\n",
       "      <th>2</th>\n",
       "      <td>{'$oid': '540c5db205c6a266f5e082dc'}</td>\n",
       "      <td>3180 L.P. Bailey Hwy.</td>\n",
       "      <td>/Clients/VDH/Southside/Southside_Website.nsf/</td>\n",
       "      <td>Medical</td>\n",
       "      <td>Halifax</td>\n",
       "      <td>{'type': 'Point', 'coordinates': [-78.94802, 3...</td>\n",
       "      <td>673F283915C99A51852572A4005334BF</td>\n",
       "      <td>{'$date': '2014-09-07T05:28:07.858-0400'}</td>\n",
       "      <td>[{'date': {'$date': '2014-08-28T20:00:00.000-0...</td>\n",
       "      <td>{'$date': '2014-08-28T20:00:00.000-0400'}</td>\n",
       "      <td>...</td>\n",
       "      <td>NaN</td>\n",
       "      <td>99.8</td>\n",
       "      <td>Sekpehs Adult Home</td>\n",
       "      <td>sekpehs-adult-home-3180-lp-bailey-hwy</td>\n",
       "      <td>NaN</td>\n",
       "      <td>NaN</td>\n",
       "      <td>Adult Care Home Food Service</td>\n",
       "      <td>/Clients/VDH/Southside/Southside_Website.nsf/F...</td>\n",
       "      <td>673F283915C99A51852572A4005334BF</td>\n",
       "      <td>NaN</td>\n",
       "    </tr>\n",
       "    <tr>\n",
       "      <th>3</th>\n",
       "      <td>{'$oid': '540c5db305c6a266f5e082dd'}</td>\n",
       "      <td>6240 Stage Coach Road</td>\n",
       "      <td>NaN</td>\n",
       "      <td>Mobile Food</td>\n",
       "      <td>Nathalie</td>\n",
       "      <td>{'coordinates': [-79.04197, 36.99772], 'type':...</td>\n",
       "      <td>E2A30E355F327C5A88257B2C0049E158</td>\n",
       "      <td>NaN</td>\n",
       "      <td>[{'followup_required': 'No', 'type': 'Routine'...</td>\n",
       "      <td>{'$date': '2016-08-25T20:00:00.000-0400'}</td>\n",
       "      <td>...</td>\n",
       "      <td>434-5748</td>\n",
       "      <td>100.0</td>\n",
       "      <td>A E Mobile Unit II</td>\n",
       "      <td>A-E-Mobile-Unit-II-6240-Stage-Coach-Road-Natha...</td>\n",
       "      <td>NaN</td>\n",
       "      <td>Permitted</td>\n",
       "      <td>Mobile Food Unit</td>\n",
       "      <td>http://healthspace.com/Clients/VDH/Southside/w...</td>\n",
       "      <td>KWAR-95QHSE</td>\n",
       "      <td>6240 Stage Coach Road, Nathalie, Virginia 24577</td>\n",
       "    </tr>\n",
       "    <tr>\n",
       "      <th>4</th>\n",
       "      <td>{'$oid': '540c5db405c6a266f5e082de'}</td>\n",
       "      <td>2050 Philpott Road</td>\n",
       "      <td>NaN</td>\n",
       "      <td>Hospitality</td>\n",
       "      <td>South Boston</td>\n",
       "      <td>{'coordinates': [-78.9196, 36.67743], 'type': ...</td>\n",
       "      <td>71BF5512B2231CB3882579EB0068E767</td>\n",
       "      <td>NaN</td>\n",
       "      <td>[{'risk_rating': 'Risk Category 2', 'followup_...</td>\n",
       "      <td>{'$date': '2016-06-21T20:00:00.000-0400'}</td>\n",
       "      <td>...</td>\n",
       "      <td></td>\n",
       "      <td>100.0</td>\n",
       "      <td>Americas Best Value Inn Suites Continental Bre...</td>\n",
       "      <td>Americas-Best-Value-Inn-Suites-Continental-Bre...</td>\n",
       "      <td>1.0</td>\n",
       "      <td>Permitted</td>\n",
       "      <td>Hotel Continental Breakfast</td>\n",
       "      <td>http://healthspace.com/Clients/VDH/Southside/w...</td>\n",
       "      <td>KWAR-8TPQG7</td>\n",
       "      <td>2050 Philpott Road, South Boston, VA 24592</td>\n",
       "    </tr>\n",
       "  </tbody>\n",
       "</table>\n",
       "<p>5 rows × 24 columns</p>\n",
       "</div>"
      ],
      "text/plain": [
       "                                    _id                   address  \\\n",
       "0  {'$oid': '540c5db005c6a266f5e082da'}          112 Pine Hill Ct   \n",
       "1  {'$oid': '540c5db105c6a266f5e082db'}  19350 Christanna Highway   \n",
       "2  {'$oid': '540c5db205c6a266f5e082dc'}     3180 L.P. Bailey Hwy.   \n",
       "3  {'$oid': '540c5db305c6a266f5e082dd'}     6240 Stage Coach Road   \n",
       "4  {'$oid': '540c5db405c6a266f5e082de'}        2050 Philpott Road   \n",
       "\n",
       "                                         baseUrl     category           city  \\\n",
       "0                                            NaN  Mobile Food        Brodnax   \n",
       "1                                            NaN    Education  Lawrenceville   \n",
       "2  /Clients/VDH/Southside/Southside_Website.nsf/      Medical        Halifax   \n",
       "3                                            NaN  Mobile Food       Nathalie   \n",
       "4                                            NaN  Hospitality   South Boston   \n",
       "\n",
       "                                                 geo  \\\n",
       "0  {'type': 'Point', 'coordinates': [-77.9095, 36...   \n",
       "1  {'coordinates': [-77.87301, 36.77721], 'type':...   \n",
       "2  {'type': 'Point', 'coordinates': [-78.94802, 3...   \n",
       "3  {'coordinates': [-79.04197, 36.99772], 'type':...   \n",
       "4  {'coordinates': [-78.9196, 36.67743], 'type': ...   \n",
       "\n",
       "                               guid  \\\n",
       "0  5D6DF6E6D3D7ED3385257B8300528EA8   \n",
       "1  88256CC2007B813A85256C60005D92AF   \n",
       "2  673F283915C99A51852572A4005334BF   \n",
       "3  E2A30E355F327C5A88257B2C0049E158   \n",
       "4  71BF5512B2231CB3882579EB0068E767   \n",
       "\n",
       "                                    inserted  \\\n",
       "0                                        NaN   \n",
       "1                                        NaN   \n",
       "2  {'$date': '2014-09-07T05:28:07.858-0400'}   \n",
       "3                                        NaN   \n",
       "4                                        NaN   \n",
       "\n",
       "                                         inspections  \\\n",
       "0                                                 []   \n",
       "1  [{'followup_required': 'No', 'date': {'$date':...   \n",
       "2  [{'date': {'$date': '2014-08-28T20:00:00.000-0...   \n",
       "3  [{'followup_required': 'No', 'type': 'Routine'...   \n",
       "4  [{'risk_rating': 'Risk Category 2', 'followup_...   \n",
       "\n",
       "                        last_inspection_date  \\\n",
       "0                                       None   \n",
       "1  {'$date': '2016-11-08T19:00:00.000-0500'}   \n",
       "2  {'$date': '2014-08-28T20:00:00.000-0400'}   \n",
       "3  {'$date': '2016-08-25T20:00:00.000-0400'}   \n",
       "4  {'$date': '2016-06-21T20:00:00.000-0400'}   \n",
       "\n",
       "                         ...                              phone  score  \\\n",
       "0                        ...                                NaN    NaN   \n",
       "1                        ...                                     100.0   \n",
       "2                        ...                                NaN   99.8   \n",
       "3                        ...                           434-5748  100.0   \n",
       "4                        ...                                     100.0   \n",
       "\n",
       "                                         search_name  \\\n",
       "0                              TJs Soul Food Kitchen   \n",
       "1                 Totaro Elementary School Cafeteria   \n",
       "2                                 Sekpehs Adult Home   \n",
       "3                                 A E Mobile Unit II   \n",
       "4  Americas Best Value Inn Suites Continental Bre...   \n",
       "\n",
       "                                                slug smoking     status  \\\n",
       "0             tjs-soul-food-kitchen-112-pine-hill-ct     1.0        NaN   \n",
       "1  Totaro-Elementary-School-Cafeteria-19350-Chris...     1.0  Permitted   \n",
       "2              sekpehs-adult-home-3180-lp-bailey-hwy     NaN        NaN   \n",
       "3  A-E-Mobile-Unit-II-6240-Stage-Coach-Road-Natha...     NaN  Permitted   \n",
       "4  Americas-Best-Value-Inn-Suites-Continental-Bre...     1.0  Permitted   \n",
       "\n",
       "                                    type  \\\n",
       "0                       Mobile Food Unit   \n",
       "1  Public Elementary School Food Service   \n",
       "2           Adult Care Home Food Service   \n",
       "3                       Mobile Food Unit   \n",
       "4            Hotel Continental Breakfast   \n",
       "\n",
       "                                                 url  \\\n",
       "0  /Clients/VDH/Southside/Southside_Website.nsf/F...   \n",
       "1  http://healthspace.com/Clients/VDH/Southside/w...   \n",
       "2  /Clients/VDH/Southside/Southside_Website.nsf/F...   \n",
       "3  http://healthspace.com/Clients/VDH/Southside/w...   \n",
       "4  http://healthspace.com/Clients/VDH/Southside/w...   \n",
       "\n",
       "                          vendor_id  \\\n",
       "0  5D6DF6E6D3D7ED3385257B8300528EA8   \n",
       "1                       RWIN-5FCMYT   \n",
       "2  673F283915C99A51852572A4005334BF   \n",
       "3                       KWAR-95QHSE   \n",
       "4                       KWAR-8TPQG7   \n",
       "\n",
       "                                     vendor_location  \n",
       "0                                                NaN  \n",
       "1  19350 Christanna Highway, Lawrenceville, VA 23868  \n",
       "2                                                NaN  \n",
       "3    6240 Stage Coach Road, Nathalie, Virginia 24577  \n",
       "4         2050 Philpott Road, South Boston, VA 24592  \n",
       "\n",
       "[5 rows x 24 columns]"
      ]
     },
     "execution_count": 35,
     "metadata": {},
     "output_type": "execute_result"
    }
   ],
   "source": [
    "import pandas as pd\n",
    "import numpy as np\n",
    "import seaborn as sns\n",
    "%matplotlib inline\n",
    "\n",
    "df = pd.read_json(\"va_health_inspections_1000.json\", lines=True)\n",
    "df.head()"
   ]
  },
  {
   "cell_type": "code",
   "execution_count": 3,
   "metadata": {
    "collapsed": false
   },
   "outputs": [
    {
     "name": "stdout",
     "output_type": "stream",
     "text": [
      "Categories: 9 ['Mobile Food' 'Education' 'Medical' 'Hospitality' 'Restaurant'\n",
      " 'Government' 'Grocery' nan 'Other']\n",
      "\n",
      "Types: 30 ['Mobile Food Unit' 'Public Elementary School Food Service'\n",
      " 'Adult Care Home Food Service' 'Hotel Continental Breakfast'\n",
      " 'Full Service Restaurant' 'Nursing Home Food Service' 'Jail Food Service'\n",
      " 'Fast Food Restaurant' 'Summer Camp Food Service'\n",
      " 'Private Middle or High School Food Service'\n",
      " 'Bed & Breakfast Food Service' 'Full Service Restaurant/Caterer'\n",
      " 'Carry Out Food Service Only' 'Child Care Food Service'\n",
      " 'Seasonal Fast Food Restaurant'\n",
      " 'Public Middle or High School Food Service' 'Hospital Food Service'\n",
      " 'Fast Food Restaurant/Caterer' 'Caterer' 'Unknown'\n",
      " 'Adult Day Care Food Service' 'Other Food Service'\n",
      " 'Private College Food Service' 'Group Home Food Service'\n",
      " 'Seasonal Full Service Restaurant' 'Convenience Store Food Service'\n",
      " 'Private Elementary School Food Service'\n",
      " 'Summer Food Service Program Kitchen' 'Grocery Store Food Service'\n",
      " 'Commissary']\n"
     ]
    }
   ],
   "source": [
    "categories = df['category'].unique()\n",
    "types = df['type'].unique()\n",
    "print('Categories: {} {}\\n'.format(categories.size, categories))\n",
    "print('Types: {} {}'.format(types.size, types))"
   ]
  },
  {
   "cell_type": "code",
   "execution_count": 36,
   "metadata": {
    "collapsed": false
   },
   "outputs": [
    {
     "name": "stderr",
     "output_type": "stream",
     "text": [
      "/Users/bcbarsness/anaconda3/lib/python3.6/site-packages/statsmodels/nonparametric/kdetools.py:20: VisibleDeprecationWarning: using a non-integer number instead of an integer will result in an error in the future\n",
      "  y = X[:m/2+1] + np.r_[0,X[m/2+1:],0]*1j\n"
     ]
    },
    {
     "data": {
      "text/plain": [
       "<matplotlib.axes._subplots.AxesSubplot at 0x120f9d400>"
      ]
     },
     "execution_count": 36,
     "metadata": {},
     "output_type": "execute_result"
    },
    {
     "data": {
      "image/png": "[encoded data removed]",
      "text/plain": [
       "<matplotlib.figure.Figure at 0x12082b588>"
      ]
     },
     "metadata": {},
     "output_type": "display_data"
    }
   ],
   "source": [
    "scores = df['score'].dropna()\n",
    "sns.set(rc={\"figure.figsize\": (15, 4)})\n",
    "sns.distplot(scores, bins=100)"
   ]
  },
  {
   "cell_type": "code",
   "execution_count": 21,
   "metadata": {
    "collapsed": false
   },
   "outputs": [
    {
     "data": {
      "text/plain": [
       "<matplotlib.axes._subplots.AxesSubplot at 0x12043d7f0>"
      ]
     },
     "execution_count": 21,
     "metadata": {},
     "output_type": "execute_result"
    },
    {
     "data": {
      "image/png": "[encoded data removed]",
      "text/plain": [
       "<matplotlib.figure.Figure at 0x1200e5f28>"
      ]
     },
     "metadata": {},
     "output_type": "display_data"
    }
   ],
   "source": [
    "\n",
    "sns.boxplot(x=\"category\", y=\"score\", data=df,palette='rainbow')"
   ]
  },
  {
   "cell_type": "code",
   "execution_count": 37,
   "metadata": {
    "collapsed": false
   },
   "outputs": [
    {
     "data": {
      "text/plain": [
       "<matplotlib.axes._subplots.AxesSubplot at 0x120b75470>"
      ]
     },
     "execution_count": 37,
     "metadata": {},
     "output_type": "execute_result"
    },
    {
     "data": {
      "image/png": "[encoded data removed]",
      "text/plain": [
       "<matplotlib.figure.Figure at 0x118333cc0>"
      ]
     },
     "metadata": {},
     "output_type": "display_data"
    }
   ],
   "source": [
    "sns.countplot(x=\"category\",  data=df)"
   ]
  },
  {
   "cell_type": "code",
   "execution_count": null,
   "metadata": {
    "collapsed": false
   },
   "outputs": [],
   "source": []
  }
 ],
 "metadata": {
  "kernelspec": {
   "display_name": "Python 3",
   "language": "python",
   "name": "python3"
  },
  "language_info": {
   "codemirror_mode": {
    "name": "ipython",
    "version": 3
   },
   "file_extension": ".py",
   "mimetype": "text/x-python",
   "name": "python",
   "nbconvert_exporter": "python",
   "pygments_lexer": "ipython3",
   "version": "3.6.0"
  }
 },
 "nbformat": 4,
 "nbformat_minor": 2
}
